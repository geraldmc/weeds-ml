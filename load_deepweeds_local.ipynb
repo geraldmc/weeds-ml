{
 "cells": [
  {
   "cell_type": "markdown",
   "id": "3076da80",
   "metadata": {},
   "source": [
    "### Data Preparation for deepweeds\n",
    "\n",
    "This notebook is for loading data into local machines. This notebook assumes that the deeweeds data has been downloaded and saved in the \"data\" folder\". Download is available at https://github.com/geraldmc/torch-draft-final_project/archive/refs/heads/main.zip. After unzipping, the data folder must have the following:\n",
    "\n",
    "- labels (folder containing all the labels for the raw images)\n",
    "- images (folder containing all the raw images)\n",
    "\n"
   ]
  },
  {
   "cell_type": "code",
   "execution_count": 1,
   "id": "11043fe4",
   "metadata": {},
   "outputs": [],
   "source": [
    "#imports\n",
    "import os\n",
    "import pandas as pd\n",
    "import glob "
   ]
  },
  {
   "cell_type": "code",
   "execution_count": 2,
   "id": "eb1ebdde",
   "metadata": {},
   "outputs": [],
   "source": [
    "#import the config files\n",
    "\n",
    "# Import local libs in a try block\n",
    "try:\n",
    "    import conf.params as params\n",
    "except ImportError:\n",
    "    pass"
   ]
  },
  {
   "cell_type": "code",
   "execution_count": 5,
   "id": "3803bdde",
   "metadata": {},
   "outputs": [
    {
     "data": {
      "text/html": [
       "<div>\n",
       "<style scoped>\n",
       "    .dataframe tbody tr th:only-of-type {\n",
       "        vertical-align: middle;\n",
       "    }\n",
       "\n",
       "    .dataframe tbody tr th {\n",
       "        vertical-align: top;\n",
       "    }\n",
       "\n",
       "    .dataframe thead th {\n",
       "        text-align: right;\n",
       "    }\n",
       "</style>\n",
       "<table border=\"1\" class=\"dataframe\">\n",
       "  <thead>\n",
       "    <tr style=\"text-align: right;\">\n",
       "      <th></th>\n",
       "      <th>Filename</th>\n",
       "      <th>Label</th>\n",
       "      <th>Species</th>\n",
       "    </tr>\n",
       "  </thead>\n",
       "  <tbody>\n",
       "    <tr>\n",
       "      <th>0</th>\n",
       "      <td>20160928-140314-0.jpg</td>\n",
       "      <td>0</td>\n",
       "      <td>Chinee apple</td>\n",
       "    </tr>\n",
       "    <tr>\n",
       "      <th>1</th>\n",
       "      <td>20160928-140337-0.jpg</td>\n",
       "      <td>0</td>\n",
       "      <td>Chinee apple</td>\n",
       "    </tr>\n",
       "    <tr>\n",
       "      <th>2</th>\n",
       "      <td>20160928-140731-0.jpg</td>\n",
       "      <td>0</td>\n",
       "      <td>Chinee apple</td>\n",
       "    </tr>\n",
       "    <tr>\n",
       "      <th>3</th>\n",
       "      <td>20160928-140747-0.jpg</td>\n",
       "      <td>0</td>\n",
       "      <td>Chinee apple</td>\n",
       "    </tr>\n",
       "    <tr>\n",
       "      <th>4</th>\n",
       "      <td>20160928-141107-0.jpg</td>\n",
       "      <td>0</td>\n",
       "      <td>Chinee apple</td>\n",
       "    </tr>\n",
       "  </tbody>\n",
       "</table>\n",
       "</div>"
      ],
      "text/plain": [
       "                Filename  Label       Species\n",
       "0  20160928-140314-0.jpg      0  Chinee apple\n",
       "1  20160928-140337-0.jpg      0  Chinee apple\n",
       "2  20160928-140731-0.jpg      0  Chinee apple\n",
       "3  20160928-140747-0.jpg      0  Chinee apple\n",
       "4  20160928-141107-0.jpg      0  Chinee apple"
      ]
     },
     "execution_count": 5,
     "metadata": {},
     "output_type": "execute_result"
    }
   ],
   "source": [
    "#read in the labels files\n",
    "LABEL_PATH = os.path.join(params.DATA_PATH, 'labels')\n",
    "label_df = pd.read_csv(os.path.join(LABEL_PATH, 'labels.csv'))\n",
    "label_df.head()"
   ]
  },
  {
   "cell_type": "code",
   "execution_count": 6,
   "id": "a50418e6",
   "metadata": {},
   "outputs": [
    {
     "data": {
      "text/html": [
       "<div>\n",
       "<style scoped>\n",
       "    .dataframe tbody tr th:only-of-type {\n",
       "        vertical-align: middle;\n",
       "    }\n",
       "\n",
       "    .dataframe tbody tr th {\n",
       "        vertical-align: top;\n",
       "    }\n",
       "\n",
       "    .dataframe thead th {\n",
       "        text-align: right;\n",
       "    }\n",
       "</style>\n",
       "<table border=\"1\" class=\"dataframe\">\n",
       "  <thead>\n",
       "    <tr style=\"text-align: right;\">\n",
       "      <th></th>\n",
       "      <th>Filename</th>\n",
       "      <th>Label</th>\n",
       "    </tr>\n",
       "  </thead>\n",
       "  <tbody>\n",
       "    <tr>\n",
       "      <th>0</th>\n",
       "      <td>20171109-175921-2.jpg</td>\n",
       "      <td>5</td>\n",
       "    </tr>\n",
       "    <tr>\n",
       "      <th>1</th>\n",
       "      <td>20170714-142019-3.jpg</td>\n",
       "      <td>1</td>\n",
       "    </tr>\n",
       "    <tr>\n",
       "      <th>2</th>\n",
       "      <td>20170718-101402-2.jpg</td>\n",
       "      <td>0</td>\n",
       "    </tr>\n",
       "    <tr>\n",
       "      <th>3</th>\n",
       "      <td>20170126-095456-0.jpg</td>\n",
       "      <td>1</td>\n",
       "    </tr>\n",
       "    <tr>\n",
       "      <th>4</th>\n",
       "      <td>20170913-110647-1.jpg</td>\n",
       "      <td>3</td>\n",
       "    </tr>\n",
       "  </tbody>\n",
       "</table>\n",
       "</div>"
      ],
      "text/plain": [
       "                Filename  Label\n",
       "0  20171109-175921-2.jpg      5\n",
       "1  20170714-142019-3.jpg      1\n",
       "2  20170718-101402-2.jpg      0\n",
       "3  20170126-095456-0.jpg      1\n",
       "4  20170913-110647-1.jpg      3"
      ]
     },
     "execution_count": 6,
     "metadata": {},
     "output_type": "execute_result"
    }
   ],
   "source": [
    "#Combine all train, test, val files, and random sample from the combined dataframes.\n",
    "\n",
    "joined_val = os.path.join(\"data/\", \"labels/\", \"val*.csv\")\n",
    "joined_train = os.path.join(\"data/\", \"labels/\", \"train*.csv\")\n",
    "joined_test = os.path.join(\"data/\", \"labels/\", \"test*.csv\")\n",
    "\n",
    "val_files = glob.glob(joined_val)\n",
    "train_files = glob.glob(joined_train)\n",
    "test_files = glob.glob(joined_test)\n",
    "\n",
    "train_df = pd.concat(map(pd.read_csv, train_files), ignore_index=True)\n",
    "val_df = pd.concat(map(pd.read_csv, val_files), ignore_index=True)\n",
    "test_df = pd.concat(map(pd.read_csv, test_files), ignore_index=True)\n",
    "\n",
    "# # In the paper, each fold contains 10,505 samples from the total \n",
    "sample_train_df = train_df#train_df.sample(n=10505)\n",
    "sample_val_df = val_df#val_df.sample(n=3502)\n",
    "sample_test_df = test_df#test_df.sample(n=3502)\n",
    "sample_train_df.head()"
   ]
  },
  {
   "cell_type": "code",
   "execution_count": 12,
   "id": "2a6d5a7f",
   "metadata": {},
   "outputs": [],
   "source": [
    "#load the training data\n",
    "import shutil\n",
    "\n",
    "files = []\n",
    "for dirpath, dirnames, filenames in os.walk(params.IMAGE_PATH):\n",
    "    for file in filenames:\n",
    "        files.append(file)\n",
    "\n",
    "def copy_files(df, filepath, test=False):\n",
    "    labels = dict(zip(df.Filename, df.Label))\n",
    "    if not test:\n",
    "        for f in files:\n",
    "            try:\n",
    "                src = os.path.join(params.IMG_DIRECTORY, f)\n",
    "                dst = os.path.join(filepath, str(labels[f]), f)\n",
    "                shutil.copyfile(src, dst)\n",
    "            except KeyError:\n",
    "                pass\n",
    "    else:\n",
    "        for f in files:\n",
    "            try:\n",
    "                src = os.path.join(params.IMG_DIRECTORY, f)\n",
    "                dst = os.path.join(filepath, f)\n",
    "                shutil.copyfile(src, dst)\n",
    "            except KeyError:\n",
    "                pass\n",
    "\n",
    "copy_files(sample_train_df, params.IMG_TRAIN_PATH)\n",
    "copy_files(sample_val_df, params.IMG_VAL_PATH, False)\n",
    "copy_files(sample_test_df, params.IMG_TEST_PATH, True)"
   ]
  },
  {
   "cell_type": "code",
   "execution_count": 14,
   "id": "24ebf55d",
   "metadata": {},
   "outputs": [
    {
     "data": {
      "text/plain": [
       "8    9106\n",
       "0    1126\n",
       "6    1074\n",
       "1    1063\n",
       "4    1062\n",
       "2    1031\n",
       "3    1022\n",
       "7    1016\n",
       "5    1009\n",
       "Name: Label, dtype: int64"
      ]
     },
     "execution_count": 14,
     "metadata": {},
     "output_type": "execute_result"
    }
   ],
   "source": [
    "test_df[\"Label\"].value_counts()"
   ]
  }
 ],
 "metadata": {
  "kernelspec": {
   "display_name": "Python 3 (ipykernel)",
   "language": "python",
   "name": "python3"
  },
  "language_info": {
   "codemirror_mode": {
    "name": "ipython",
    "version": 3
   },
   "file_extension": ".py",
   "mimetype": "text/x-python",
   "name": "python",
   "nbconvert_exporter": "python",
   "pygments_lexer": "ipython3",
   "version": "3.9.7"
  }
 },
 "nbformat": 4,
 "nbformat_minor": 5
}
